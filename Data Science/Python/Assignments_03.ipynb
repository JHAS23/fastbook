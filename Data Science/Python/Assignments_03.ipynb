{
 "cells": [
  {
   "cell_type": "markdown",
   "metadata": {},
   "source": [
    "# Class06_27_Jan_2018 & Class07_2_Feb_2018 & Class08_3_Feb_2019"
   ]
  },
  {
   "cell_type": "markdown",
   "metadata": {},
   "source": [
    "## For Exception"
   ]
  },
  {
   "cell_type": "markdown",
   "metadata": {},
   "source": [
    "#### 1. Write a program to write something in a text file which is not existing . Handle the exception gracefully and write some content in file."
   ]
  },
  {
   "cell_type": "markdown",
   "metadata": {},
   "source": [
    "## Numpy, Pandas and Matplotlib"
   ]
  },
  {
   "cell_type": "markdown",
   "metadata": {},
   "source": [
    "#### 2. Write a prpogram to generate an array of 30 numbers (1 to 30) of all possible shapes."
   ]
  },
  {
   "cell_type": "markdown",
   "metadata": {},
   "source": [
    "#### 3. Write a prpogram to genrate an array of random integer numbers between 10 to 50 numbers of all possible shapes."
   ]
  },
  {
   "cell_type": "markdown",
   "metadata": {},
   "source": [
    "#### 4. Write a prpogram to generate an array of 100 equally spaced numbers between 1 to 7 numbers of possible shapes.\n",
    "\n",
    "e.g : np.linspace(1,7,100) # from 1 to 7 100 numbers (equally spaced)"
   ]
  },
  {
   "cell_type": "markdown",
   "metadata": {},
   "source": [
    "#### 5. Write a prpogram to filter out all the numbers (generated from que.4) which is greater than 3.84 and less than 6.57."
   ]
  },
  {
   "cell_type": "markdown",
   "metadata": {},
   "source": [
    "#### 6. Write a prpogram to replace first 3 numbers with 100 and middle 3'numbers with 200 and last 3 numbers with 300 in output of que.5"
   ]
  },
  {
   "cell_type": "markdown",
   "metadata": {},
   "source": [
    "#### 7. Write a prpogram to create a 5x5 matrix of random int numbers between 10 to 100 and\n",
    "- replace upper triangle with zeros and print as a new matrix\n",
    "- replace lower triangle with zeros and print as a new matrix"
   ]
  },
  {
   "cell_type": "markdown",
   "metadata": {},
   "source": [
    "### Titanic Case Study"
   ]
  },
  {
   "cell_type": "markdown",
   "metadata": {
    "ExecuteTime": {
     "end_time": "2018-07-15T12:53:38.114102Z",
     "start_time": "2018-07-15T12:53:38.104102Z"
    }
   },
   "source": [
    "\n",
    "#### 8. Continue exercise on Titanic dataset and do followings:\n",
    "- Generate various plots for each features (columns) and tell your conclusion\n",
    "- Perform various grouping of for any 2 colmuns and provide your conclusions by plotting them\n",
    "- Perform various grouping of for any 3 colmuns and provide your conclusions by plotting them\n",
    "- Perform various grouping of for any 4 colmuns and provide your conclusions by plotting them\n",
    "\n",
    "Notes:\n",
    "- provide proper labeling for the data points\n",
    "- provide proper labeling for x and y axis\n",
    "- provide proper title for each graph\n",
    "- Do not create any sublpot more than 4x3 area (12 grapphs and one subplot)\n",
    "\n",
    "\n"
   ]
  }
 ],
 "metadata": {
  "kernelspec": {
   "display_name": "Python 3",
   "language": "python",
   "name": "python3"
  },
  "language_info": {
   "codemirror_mode": {
    "name": "ipython",
    "version": 3
   },
   "file_extension": ".py",
   "mimetype": "text/x-python",
   "name": "python",
   "nbconvert_exporter": "python",
   "pygments_lexer": "ipython3",
   "version": "3.7.0"
  },
  "varInspector": {
   "cols": {
    "lenName": 16,
    "lenType": 16,
    "lenVar": 40
   },
   "kernels_config": {
    "python": {
     "delete_cmd_postfix": "",
     "delete_cmd_prefix": "del ",
     "library": "var_list.py",
     "varRefreshCmd": "print(var_dic_list())"
    },
    "r": {
     "delete_cmd_postfix": ") ",
     "delete_cmd_prefix": "rm(",
     "library": "var_list.r",
     "varRefreshCmd": "cat(var_dic_list()) "
    }
   },
   "types_to_exclude": [
    "module",
    "function",
    "builtin_function_or_method",
    "instance",
    "_Feature"
   ],
   "window_display": false
  }
 },
 "nbformat": 4,
 "nbformat_minor": 2
}
